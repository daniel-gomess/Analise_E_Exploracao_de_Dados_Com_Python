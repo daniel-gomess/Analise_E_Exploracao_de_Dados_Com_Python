{
 "cells": [
  {
   "cell_type": "code",
   "execution_count": 1,
   "id": "73f78e88",
   "metadata": {},
   "outputs": [
    {
     "name": "stdout",
     "output_type": "stream",
     "text": [
      "Requirement already satisfied: findspark in c:\\users\\daani\\appdata\\local\\programs\\python\\python311\\lib\\site-packages (2.0.1)\n",
      "Requirement already satisfied: pyspark in c:\\users\\daani\\appdata\\local\\programs\\python\\python311\\lib\\site-packages (4.0.1)\n",
      "Requirement already satisfied: py4j==0.10.9.9 in c:\\users\\daani\\appdata\\local\\programs\\python\\python311\\lib\\site-packages (from pyspark) (0.10.9.9)\n"
     ]
    },
    {
     "name": "stderr",
     "output_type": "stream",
     "text": [
      "\n",
      "[notice] A new release of pip is available: 25.1.1 -> 25.3\n",
      "[notice] To update, run: python.exe -m pip install --upgrade pip\n"
     ]
    },
    {
     "name": "stdout",
     "output_type": "stream",
     "text": [
      "Requirement already satisfied: pyspark in c:\\users\\daani\\appdata\\local\\programs\\python\\python311\\lib\\site-packages (4.0.1)\n",
      "Requirement already satisfied: py4j==0.10.9.9 in c:\\users\\daani\\appdata\\local\\programs\\python\\python311\\lib\\site-packages (from pyspark) (0.10.9.9)\n"
     ]
    },
    {
     "name": "stderr",
     "output_type": "stream",
     "text": [
      "\n",
      "[notice] A new release of pip is available: 25.1.1 -> 25.3\n",
      "[notice] To update, run: python.exe -m pip install --upgrade pip\n"
     ]
    },
    {
     "name": "stdout",
     "output_type": "stream",
     "text": [
      "Requirement already satisfied: matplotlib in c:\\users\\daani\\appdata\\local\\programs\\python\\python311\\lib\\site-packages (3.10.7)\n",
      "Requirement already satisfied: contourpy>=1.0.1 in c:\\users\\daani\\appdata\\local\\programs\\python\\python311\\lib\\site-packages (from matplotlib) (1.3.3)\n",
      "Requirement already satisfied: cycler>=0.10 in c:\\users\\daani\\appdata\\local\\programs\\python\\python311\\lib\\site-packages (from matplotlib) (0.12.1)\n",
      "Requirement already satisfied: fonttools>=4.22.0 in c:\\users\\daani\\appdata\\local\\programs\\python\\python311\\lib\\site-packages (from matplotlib) (4.60.1)\n",
      "Requirement already satisfied: kiwisolver>=1.3.1 in c:\\users\\daani\\appdata\\local\\programs\\python\\python311\\lib\\site-packages (from matplotlib) (1.4.9)\n",
      "Requirement already satisfied: numpy>=1.23 in c:\\users\\daani\\appdata\\local\\programs\\python\\python311\\lib\\site-packages (from matplotlib) (2.2.4)\n",
      "Requirement already satisfied: packaging>=20.0 in c:\\users\\daani\\appdata\\local\\programs\\python\\python311\\lib\\site-packages (from matplotlib) (25.0)\n",
      "Requirement already satisfied: pillow>=8 in c:\\users\\daani\\appdata\\local\\programs\\python\\python311\\lib\\site-packages (from matplotlib) (11.2.1)\n",
      "Requirement already satisfied: pyparsing>=3 in c:\\users\\daani\\appdata\\local\\programs\\python\\python311\\lib\\site-packages (from matplotlib) (3.2.3)\n",
      "Requirement already satisfied: python-dateutil>=2.7 in c:\\users\\daani\\appdata\\local\\programs\\python\\python311\\lib\\site-packages (from matplotlib) (2.9.0.post0)\n",
      "Requirement already satisfied: six>=1.5 in c:\\users\\daani\\appdata\\local\\programs\\python\\python311\\lib\\site-packages (from python-dateutil>=2.7->matplotlib) (1.17.0)\n"
     ]
    },
    {
     "name": "stderr",
     "output_type": "stream",
     "text": [
      "\n",
      "[notice] A new release of pip is available: 25.1.1 -> 25.3\n",
      "[notice] To update, run: python.exe -m pip install --upgrade pip\n"
     ]
    },
    {
     "name": "stdout",
     "output_type": "stream",
     "text": [
      "Requirement already satisfied: seaborn in c:\\users\\daani\\appdata\\local\\programs\\python\\python311\\lib\\site-packages (0.13.2)\n",
      "Requirement already satisfied: numpy!=1.24.0,>=1.20 in c:\\users\\daani\\appdata\\local\\programs\\python\\python311\\lib\\site-packages (from seaborn) (2.2.4)\n",
      "Requirement already satisfied: pandas>=1.2 in c:\\users\\daani\\appdata\\local\\programs\\python\\python311\\lib\\site-packages (from seaborn) (2.2.3)\n",
      "Requirement already satisfied: matplotlib!=3.6.1,>=3.4 in c:\\users\\daani\\appdata\\local\\programs\\python\\python311\\lib\\site-packages (from seaborn) (3.10.7)\n",
      "Requirement already satisfied: contourpy>=1.0.1 in c:\\users\\daani\\appdata\\local\\programs\\python\\python311\\lib\\site-packages (from matplotlib!=3.6.1,>=3.4->seaborn) (1.3.3)\n",
      "Requirement already satisfied: cycler>=0.10 in c:\\users\\daani\\appdata\\local\\programs\\python\\python311\\lib\\site-packages (from matplotlib!=3.6.1,>=3.4->seaborn) (0.12.1)\n",
      "Requirement already satisfied: fonttools>=4.22.0 in c:\\users\\daani\\appdata\\local\\programs\\python\\python311\\lib\\site-packages (from matplotlib!=3.6.1,>=3.4->seaborn) (4.60.1)\n",
      "Requirement already satisfied: kiwisolver>=1.3.1 in c:\\users\\daani\\appdata\\local\\programs\\python\\python311\\lib\\site-packages (from matplotlib!=3.6.1,>=3.4->seaborn) (1.4.9)\n",
      "Requirement already satisfied: packaging>=20.0 in c:\\users\\daani\\appdata\\local\\programs\\python\\python311\\lib\\site-packages (from matplotlib!=3.6.1,>=3.4->seaborn) (25.0)\n",
      "Requirement already satisfied: pillow>=8 in c:\\users\\daani\\appdata\\local\\programs\\python\\python311\\lib\\site-packages (from matplotlib!=3.6.1,>=3.4->seaborn) (11.2.1)\n",
      "Requirement already satisfied: pyparsing>=3 in c:\\users\\daani\\appdata\\local\\programs\\python\\python311\\lib\\site-packages (from matplotlib!=3.6.1,>=3.4->seaborn) (3.2.3)\n",
      "Requirement already satisfied: python-dateutil>=2.7 in c:\\users\\daani\\appdata\\local\\programs\\python\\python311\\lib\\site-packages (from matplotlib!=3.6.1,>=3.4->seaborn) (2.9.0.post0)\n",
      "Requirement already satisfied: pytz>=2020.1 in c:\\users\\daani\\appdata\\local\\programs\\python\\python311\\lib\\site-packages (from pandas>=1.2->seaborn) (2025.2)\n",
      "Requirement already satisfied: tzdata>=2022.7 in c:\\users\\daani\\appdata\\local\\programs\\python\\python311\\lib\\site-packages (from pandas>=1.2->seaborn) (2025.2)\n",
      "Requirement already satisfied: six>=1.5 in c:\\users\\daani\\appdata\\local\\programs\\python\\python311\\lib\\site-packages (from python-dateutil>=2.7->matplotlib!=3.6.1,>=3.4->seaborn) (1.17.0)\n"
     ]
    },
    {
     "name": "stderr",
     "output_type": "stream",
     "text": [
      "\n",
      "[notice] A new release of pip is available: 25.1.1 -> 25.3\n",
      "[notice] To update, run: python.exe -m pip install --upgrade pip\n",
      "O sistema n�o pode encontrar o caminho especificado.\n"
     ]
    }
   ],
   "source": [
    "!pip install findspark pyspark\n",
    "!pip install pyspark\n",
    "!pip install matplotlib\n",
    "!pip install seaborn\n",
    "!apt-get install openjdk-8-jdk-headless -qq > /dev/null\n"
   ]
  },
  {
   "cell_type": "code",
   "execution_count": 2,
   "id": "037c7ecd",
   "metadata": {},
   "outputs": [],
   "source": [
    "import findspark\n",
    "import pandas as pd\n",
    "import pyspark\n",
    "from pyspark.sql import SparkSession\n",
    "from pyspark.sql.functions import * \n",
    "from pyspark.sql.functions import to_date, col\n",
    "import matplotlib.pyplot as plt\n",
    "import seaborn as sns\n"
   ]
  },
  {
   "cell_type": "code",
   "execution_count": 5,
   "id": "1b0bc217",
   "metadata": {},
   "outputs": [
    {
     "name": "stdout",
     "output_type": "stream",
     "text": [
      "+-----------+------------+--------------------+---------------+-------------+--------------------+--------------------+-----------+\n",
      "|Data Início|Data Término|           Motorista|Tipo Transporte|Placa Veículo|       Cidade Origem|      Cidade Destino|     Status|\n",
      "+-----------+------------+--------------------+---------------+-------------+--------------------+--------------------+-----------+\n",
      "| 2025-10-23|  2025-10-27|   Sra. Nina da Mota|     Rodoviário|     KXP-6Y71|Casa Grande dos D...|       Sousa da Mata|   Entregue|\n",
      "| 2025-10-17|  2025-10-25|         Thales Dias|       Marítimo|     DCR-0M42|            da Rocha|      Ferreira Verde|   Entregue|\n",
      "| 2025-10-20|  2025-10-22|        Asafe Novais|          Aéreo|     DIK-0J40|             Moreira|             Barbosa|   Entregue|\n",
      "| 2025-10-08|  2025-10-18|      Rebeca da Cruz|       Marítimo|     PZZ-1Q40|      Brito do Campo|           Rodrigues|Em Trânsito|\n",
      "| 2025-10-20|  2025-10-27|       Bella Correia|       Marítimo|     KAV-5T40|     Mendonça Grande|    Mendes de Câmara|Em Trânsito|\n",
      "| 2025-10-12|  2025-10-17|    Cecília Mendonça|          Aéreo|     ABP-1V75|      Melo do Amparo|         Casa Grande|Em Trânsito|\n",
      "| 2025-10-23|  2025-10-31|  Sra. Ágatha da Paz|     Rodoviário|     VGK-2T79|   Monteiro de Goiás|      Lopes Paulista|Em Trânsito|\n",
      "| 2025-10-16|  2025-10-24|     Ana Laura Souza|       Marítimo|     VUL-8D11|   Câmara de Andrade|               Souza|   Atrasado|\n",
      "| 2025-10-03|  2025-10-04|Dra. Emanuelly da...|       Marítimo|     DQF-1U70|               Pires|               Gomes|Em Trânsito|\n",
      "| 2025-10-27|  2025-10-30|           Theo Lima|     Rodoviário|     WIN-2C75|               Abreu|Montenegro das Fl...|   Atrasado|\n",
      "| 2025-10-26|  2025-10-27|     Srta. Ayla Melo|     Rodoviário|     FUD-0G13|           das Neves|             Rezende|   Entregue|\n",
      "| 2025-10-10|  2025-10-12|      Eloah Ferreira|     Rodoviário|     XXD-3S41|     Mendes de Goiás|   Nogueira do Galho|Em Trânsito|\n",
      "| 2025-10-27|  2025-11-05|   Sabrina Aparecida|     Rodoviário|     WYM-4D69|             Fonseca|          Montenegro|Em Trânsito|\n",
      "| 2025-10-08|  2025-10-11|       Murilo Novais|     Rodoviário|     RUE-8U63|         Casa Grande|             Martins|   Atrasado|\n",
      "| 2025-10-24|  2025-10-28|    Caroline Rezende|     Rodoviário|     AAM-5Y63|              Vieira|             Correia|   Entregue|\n",
      "| 2025-09-29|  2025-10-06|       Gabriel Souza|     Rodoviário|     GWS-0D05|       Leão da Serra|        Cirino Verde|   Atrasado|\n",
      "| 2025-10-23|  2025-10-30|Sr. José Miguel O...|     Rodoviário|     OHB-4I07|    Barros de Novais|    Aragão de Borges|   Entregue|\n",
      "| 2025-10-16|  2025-10-25|     Cecilia Barbosa|     Rodoviário|     QAB-5X66|   Carvalho de Goiás|   Fogaça das Pedras|Em Trânsito|\n",
      "| 2025-09-30|  2025-10-01|    Maysa Nascimento|          Aéreo|     FTG-7A87|      Brito de Goiás|              Novaes|   Atrasado|\n",
      "| 2025-10-05|  2025-10-14|    Lorenzo Nogueira|          Aéreo|     XUU-1U92|     Moraes Paulista|             Andrade|   Atrasado|\n",
      "+-----------+------------+--------------------+---------------+-------------+--------------------+--------------------+-----------+\n",
      "only showing top 20 rows\n"
     ]
    }
   ],
   "source": [
    "import pyspark\n",
    "from pyspark.sql import SparkSession\n",
    "from pyspark.sql.functions import *\n",
    "\n",
    "# CRIANDO SESSÃO SPARK\n",
    "spark = SparkSession.builder.appName(\"Analise_Transporte\").getOrCreate()\n",
    "\n",
    "# LENDO ARQUIVOP CSV COM PYSPARK\n",
    "df = spark.read.csv('dados_Logística_Transporte.csv', header=True, inferSchema=True)\n",
    "\n",
    "# EXIBINDO A BASE DE DADOS COMPLETA\n",
    "df.show()"
   ]
  },
  {
   "cell_type": "code",
   "execution_count": 6,
   "id": "5bb95e12",
   "metadata": {},
   "outputs": [
    {
     "name": "stdout",
     "output_type": "stream",
     "text": [
      "+--------------------+-------------+\n",
      "|           Motorista|Placa Veículo|\n",
      "+--------------------+-------------+\n",
      "|   Sra. Nina da Mota|     KXP-6Y71|\n",
      "|         Thales Dias|     DCR-0M42|\n",
      "|        Asafe Novais|     DIK-0J40|\n",
      "|      Rebeca da Cruz|     PZZ-1Q40|\n",
      "|       Bella Correia|     KAV-5T40|\n",
      "|    Cecília Mendonça|     ABP-1V75|\n",
      "|  Sra. Ágatha da Paz|     VGK-2T79|\n",
      "|     Ana Laura Souza|     VUL-8D11|\n",
      "|Dra. Emanuelly da...|     DQF-1U70|\n",
      "|           Theo Lima|     WIN-2C75|\n",
      "|     Srta. Ayla Melo|     FUD-0G13|\n",
      "|      Eloah Ferreira|     XXD-3S41|\n",
      "|   Sabrina Aparecida|     WYM-4D69|\n",
      "|       Murilo Novais|     RUE-8U63|\n",
      "|    Caroline Rezende|     AAM-5Y63|\n",
      "|       Gabriel Souza|     GWS-0D05|\n",
      "|Sr. José Miguel O...|     OHB-4I07|\n",
      "|     Cecilia Barbosa|     QAB-5X66|\n",
      "|    Maysa Nascimento|     FTG-7A87|\n",
      "|    Lorenzo Nogueira|     XUU-1U92|\n",
      "+--------------------+-------------+\n",
      "only showing top 20 rows\n"
     ]
    }
   ],
   "source": [
    "\n",
    "#SELECIONANDO APENAS ALGUMAS COLUNAS\n",
    "\n",
    "df.select(\"Motorista\", \"Placa Veículo\").show()"
   ]
  },
  {
   "cell_type": "code",
   "execution_count": 7,
   "id": "92360eb1",
   "metadata": {},
   "outputs": [
    {
     "name": "stdout",
     "output_type": "stream",
     "text": [
      "+-----------+------------+--------------------+---------------+-------------+--------------------+--------------------+--------+\n",
      "|Data Início|Data Término|           Motorista|Tipo Transporte|Placa Veículo|       Cidade Origem|      Cidade Destino|  Status|\n",
      "+-----------+------------+--------------------+---------------+-------------+--------------------+--------------------+--------+\n",
      "| 2025-10-23|  2025-10-27|   Sra. Nina da Mota|     Rodoviário|     KXP-6Y71|Casa Grande dos D...|       Sousa da Mata|Entregue|\n",
      "| 2025-10-17|  2025-10-25|         Thales Dias|       Marítimo|     DCR-0M42|            da Rocha|      Ferreira Verde|Entregue|\n",
      "| 2025-10-20|  2025-10-22|        Asafe Novais|          Aéreo|     DIK-0J40|             Moreira|             Barbosa|Entregue|\n",
      "| 2025-10-26|  2025-10-27|     Srta. Ayla Melo|     Rodoviário|     FUD-0G13|           das Neves|             Rezende|Entregue|\n",
      "| 2025-10-24|  2025-10-28|    Caroline Rezende|     Rodoviário|     AAM-5Y63|              Vieira|             Correia|Entregue|\n",
      "| 2025-10-23|  2025-10-30|Sr. José Miguel O...|     Rodoviário|     OHB-4I07|    Barros de Novais|    Aragão de Borges|Entregue|\n",
      "| 2025-10-24|  2025-10-27|  Dr. Renan da Costa|       Marítimo|     NMJ-7K37|             Barbosa|     da Paz Paulista|Entregue|\n",
      "| 2025-10-18|  2025-10-25|     Bella Fernandes|     Rodoviário|     SNF-2V71|          Cavalcante|     Oliveira Alegre|Entregue|\n",
      "| 2025-10-29|  2025-11-04|Srta. Mariane Pei...|       Marítimo|     UAH-3D11|     Mendes do Norte|             Barbosa|Entregue|\n",
      "| 2025-10-01|  2025-10-02|  João Miguel Pastor|       Marítimo|     PKQ-2M46|    Teixeira de Lima|       Campos Alegre|Entregue|\n",
      "| 2025-10-23|  2025-11-02|        Evelyn Gomes|          Aéreo|     IFR-4P75|   Ferreira do Campo|    Cardoso do Oeste|Entregue|\n",
      "| 2025-10-14|  2025-10-18|       Enrico Duarte|       Marítimo|     QSB-3I12|   Silveira do Campo|   Nascimento do Sul|Entregue|\n",
      "| 2025-09-29|  2025-10-02| Srta. Larissa Lopes|       Marítimo|     RBJ-8Y55|               Ramos|Cavalcanti de Vargas|Entregue|\n",
      "| 2025-10-15|  2025-10-18| Ana Carolina da Luz|     Rodoviário|     MLO-8J73|               Souza|                  Sá|Entregue|\n",
      "| 2025-10-13|  2025-10-17|         Clara Rocha|       Marítimo|     AIV-8Z48|      Sousa do Norte|             Freitas|Entregue|\n",
      "| 2025-10-22|  2025-10-27|João Miguel das N...|       Marítimo|     DIN-5M47|              Moraes|             Costela|Entregue|\n",
      "| 2025-10-04|  2025-10-08|           Otto Leão|       Marítimo|     FAQ-2Y05|    Pereira da Serra|        Macedo Verde|Entregue|\n",
      "| 2025-10-05|  2025-10-12|      Luana da Costa|          Aéreo|     CBE-0C24|    da Rosa da Praia|            da Cunha|Entregue|\n",
      "| 2025-10-29|  2025-10-30|  Guilherme da Cunha|       Marítimo|     FGI-3I29|     Fogaça da Praia|     Cirino do Oeste|Entregue|\n",
      "| 2025-10-02|  2025-10-09|       Vitória Gomes|     Rodoviário|     UQJ-3A46|     Garcia Paulista|     Campos de Minas|Entregue|\n",
      "+-----------+------------+--------------------+---------------+-------------+--------------------+--------------------+--------+\n",
      "only showing top 20 rows\n"
     ]
    }
   ],
   "source": [
    "\n",
    "#APLICANDO FILTROS PARTE 1. FILTRANDO STATUS DA VIAGEM \n",
    "\n",
    "df.filter(df[\"Status\"] == \"Entregue\").show()"
   ]
  },
  {
   "cell_type": "code",
   "execution_count": 8,
   "id": "ba84254d",
   "metadata": {},
   "outputs": [
    {
     "name": "stdout",
     "output_type": "stream",
     "text": [
      "+-----------+------------+--------------------+---------------+-------------+-----------------+-----------------+--------+\n",
      "|Data Início|Data Término|           Motorista|Tipo Transporte|Placa Veículo|    Cidade Origem|   Cidade Destino|  Status|\n",
      "+-----------+------------+--------------------+---------------+-------------+-----------------+-----------------+--------+\n",
      "| 2025-10-14|  2025-10-16|Carlos Eduardo Du...|     Rodoviário|     XHW-2N60|Moreira do Amparo|Ferreira do Norte|Entregue|\n",
      "+-----------+------------+--------------------+---------------+-------------+-----------------+-----------------+--------+\n",
      "\n"
     ]
    }
   ],
   "source": [
    "\n",
    "#APLICANDO FILTROS PARTE 2. FILTRANDO CIDADE DE ORIGEM COMO MOREIRA DO AMPARO E TIPO DE TRANSPORTE COMO RODOVIÁRIO\n",
    "\n",
    "df.filter((df['Cidade Origem'] == 'Moreira do Amparo') & (df['Tipo Transporte'] == 'Rodoviário')).show()"
   ]
  },
  {
   "cell_type": "code",
   "execution_count": 14,
   "id": "aed03062",
   "metadata": {},
   "outputs": [
    {
     "name": "stdout",
     "output_type": "stream",
     "text": [
      "+-----------+-----+\n",
      "|     Status|count|\n",
      "+-----------+-----+\n",
      "|Em Trânsito|  322|\n",
      "|   Atrasado|  328|\n",
      "|   Entregue|  350|\n",
      "+-----------+-----+\n",
      "\n"
     ]
    }
   ],
   "source": [
    "\n",
    "#AGRUPANDO VALORES. CONTANDO VIAGEMS POR STATUS\n",
    "\n",
    "df.groupBy(\"Status\").count().show()"
   ]
  },
  {
   "cell_type": "code",
   "execution_count": 9,
   "id": "925f9a40",
   "metadata": {},
   "outputs": [
    {
     "name": "stdout",
     "output_type": "stream",
     "text": [
      "+-----------+------------+--------------------+---------------+-------------+--------------------+--------------------+-----------+\n",
      "|Data Início|Data Término|           Motorista|Tipo Transporte|Placa Veículo|       Cidade Origem|      Cidade Destino|     Status|\n",
      "+-----------+------------+--------------------+---------------+-------------+--------------------+--------------------+-----------+\n",
      "| 2025-09-29|  2025-10-06|       Gabriel Souza|     Rodoviário|     GWS-0D05|       Leão da Serra|        Cirino Verde|   Atrasado|\n",
      "| 2025-09-29|  2025-10-01|Benjamim Casa Grande|       Marítimo|     WHN-9C65|               Souza|Caldeira de Vasco...|   Atrasado|\n",
      "| 2025-09-29|  2025-10-02| Srta. Larissa Lopes|       Marítimo|     RBJ-8Y55|               Ramos|Cavalcanti de Vargas|   Entregue|\n",
      "| 2025-09-29|  2025-10-08|         Bruna Costa|          Aéreo|     BGC-1Y36|             Pacheco|               Costa|Em Trânsito|\n",
      "| 2025-09-29|  2025-09-30|          Ian Barros|          Aéreo|     WXZ-0Z45|Nascimento das Pe...|    Vieira de Mendes|   Entregue|\n",
      "| 2025-09-29|  2025-09-30|         Joana Sousa|       Marítimo|     PUI-5R31|              Vieira| Montenegro da Praia|Em Trânsito|\n",
      "| 2025-09-29|  2025-10-08|      Emilly Barbosa|          Aéreo|     PKP-5H43|            Cassiano|               Costa|   Atrasado|\n",
      "| 2025-09-29|  2025-10-04|  Maria Laura da Luz|          Aéreo|     KWW-9C04|             Barbosa|         Albuquerque|   Entregue|\n",
      "| 2025-09-29|  2025-10-07|       Esther da Paz|          Aéreo|     SOP-0B16|               Moura|             da Mata|   Entregue|\n",
      "| 2025-09-29|  2025-09-30|     Fernanda Guerra|     Rodoviário|     WIO-6M23|   Caldeira de Minas|     Lopes de Novaes|   Entregue|\n",
      "| 2025-09-29|  2025-10-08|            Sofia Sá|          Aéreo|     QAY-2Y14|     da Mota de Leão|              Moraes|   Atrasado|\n",
      "| 2025-09-29|  2025-10-03|   Srta. Ayla Fogaça|          Aéreo|     DKD-3T86|    da Costa da Mata|            da Cunha|   Atrasado|\n",
      "| 2025-09-29|  2025-10-09|      Danilo Peixoto|       Marítimo|     SUH-1A22|     Ferreira Alegre|das Neves das Pedras|   Atrasado|\n",
      "| 2025-09-29|  2025-10-08|Dra. Sabrina da Cruz|       Marítimo|     IVR-1N05|              Guerra|      Rocha de Goiás|   Entregue|\n",
      "| 2025-09-29|  2025-10-08|    Raquel Rodrigues|     Rodoviário|     NLB-9J40|   da Paz das Pedras|       Sá de Freitas|   Entregue|\n",
      "| 2025-09-29|  2025-10-08|        Miguel Porto|     Rodoviário|     BJA-0F63|         Albuquerque|    Mendes do Amparo|Em Trânsito|\n",
      "| 2025-09-29|  2025-10-06|   Sr. Luigi Pereira|       Marítimo|     QUG-3N10|      Souza do Campo|Montenegro do Amparo|Em Trânsito|\n",
      "| 2025-09-29|  2025-10-06| Luiz Gustavo Mendes|     Rodoviário|     SQE-1O23| Guerra dos Dourados|    Brito de Ribeiro|Em Trânsito|\n",
      "| 2025-09-29|  2025-10-06|        Lucca Duarte|          Aéreo|     RKY-3M33|     Farias do Norte|Silveira de Oliveira|Em Trânsito|\n",
      "| 2025-09-29|  2025-10-03|       Lorena Farias|       Marítimo|     TRE-8Q27|    Martins de Nunes|     Viana do Amparo|   Entregue|\n",
      "+-----------+------------+--------------------+---------------+-------------+--------------------+--------------------+-----------+\n",
      "only showing top 20 rows\n"
     ]
    }
   ],
   "source": [
    "\n",
    "# ORDENANDO BASE DE DADOS POR DATA DE INICIO\n",
    "\n",
    "df.orderBy(\"Data Início\").show()"
   ]
  },
  {
   "cell_type": "code",
   "execution_count": 16,
   "id": "257e8d56",
   "metadata": {},
   "outputs": [],
   "source": [
    "\n",
    "#TRANSFORMANDO TIPOS DE COLUNAS\n",
    "\n",
    "df = df.withColumn(\"Data Início\", to_date(col(\"Data Início\"), \"dd/MM/yyyy\"))\n",
    "df = df.withColumn(\"Data Término\", to_date(col(\"Data Término\"), \"dd/MM/yyyy\"))"
   ]
  },
  {
   "cell_type": "code",
   "execution_count": 10,
   "id": "6559c43c",
   "metadata": {},
   "outputs": [
    {
     "name": "stdout",
     "output_type": "stream",
     "text": [
      "+-----------+------------+--------------------+---------------+-------------+--------------------+--------------------+-----------+---------------------------+\n",
      "|Data Início|Data Término|           Motorista|Tipo Transporte|Placa Veículo|       Cidade Origem|      Cidade Destino|     Status|Duração da Viagem (Em dias)|\n",
      "+-----------+------------+--------------------+---------------+-------------+--------------------+--------------------+-----------+---------------------------+\n",
      "| 2025-10-23|  2025-10-27|   Sra. Nina da Mota|     Rodoviário|     KXP-6Y71|Casa Grande dos D...|       Sousa da Mata|   Entregue|                          4|\n",
      "| 2025-10-17|  2025-10-25|         Thales Dias|       Marítimo|     DCR-0M42|            da Rocha|      Ferreira Verde|   Entregue|                          8|\n",
      "| 2025-10-20|  2025-10-22|        Asafe Novais|          Aéreo|     DIK-0J40|             Moreira|             Barbosa|   Entregue|                          2|\n",
      "| 2025-10-08|  2025-10-18|      Rebeca da Cruz|       Marítimo|     PZZ-1Q40|      Brito do Campo|           Rodrigues|Em Trânsito|                         10|\n",
      "| 2025-10-20|  2025-10-27|       Bella Correia|       Marítimo|     KAV-5T40|     Mendonça Grande|    Mendes de Câmara|Em Trânsito|                          7|\n",
      "| 2025-10-12|  2025-10-17|    Cecília Mendonça|          Aéreo|     ABP-1V75|      Melo do Amparo|         Casa Grande|Em Trânsito|                          5|\n",
      "| 2025-10-23|  2025-10-31|  Sra. Ágatha da Paz|     Rodoviário|     VGK-2T79|   Monteiro de Goiás|      Lopes Paulista|Em Trânsito|                          8|\n",
      "| 2025-10-16|  2025-10-24|     Ana Laura Souza|       Marítimo|     VUL-8D11|   Câmara de Andrade|               Souza|   Atrasado|                          8|\n",
      "| 2025-10-03|  2025-10-04|Dra. Emanuelly da...|       Marítimo|     DQF-1U70|               Pires|               Gomes|Em Trânsito|                          1|\n",
      "| 2025-10-27|  2025-10-30|           Theo Lima|     Rodoviário|     WIN-2C75|               Abreu|Montenegro das Fl...|   Atrasado|                          3|\n",
      "| 2025-10-26|  2025-10-27|     Srta. Ayla Melo|     Rodoviário|     FUD-0G13|           das Neves|             Rezende|   Entregue|                          1|\n",
      "| 2025-10-10|  2025-10-12|      Eloah Ferreira|     Rodoviário|     XXD-3S41|     Mendes de Goiás|   Nogueira do Galho|Em Trânsito|                          2|\n",
      "| 2025-10-27|  2025-11-05|   Sabrina Aparecida|     Rodoviário|     WYM-4D69|             Fonseca|          Montenegro|Em Trânsito|                          9|\n",
      "| 2025-10-08|  2025-10-11|       Murilo Novais|     Rodoviário|     RUE-8U63|         Casa Grande|             Martins|   Atrasado|                          3|\n",
      "| 2025-10-24|  2025-10-28|    Caroline Rezende|     Rodoviário|     AAM-5Y63|              Vieira|             Correia|   Entregue|                          4|\n",
      "| 2025-09-29|  2025-10-06|       Gabriel Souza|     Rodoviário|     GWS-0D05|       Leão da Serra|        Cirino Verde|   Atrasado|                          7|\n",
      "| 2025-10-23|  2025-10-30|Sr. José Miguel O...|     Rodoviário|     OHB-4I07|    Barros de Novais|    Aragão de Borges|   Entregue|                          7|\n",
      "| 2025-10-16|  2025-10-25|     Cecilia Barbosa|     Rodoviário|     QAB-5X66|   Carvalho de Goiás|   Fogaça das Pedras|Em Trânsito|                          9|\n",
      "| 2025-09-30|  2025-10-01|    Maysa Nascimento|          Aéreo|     FTG-7A87|      Brito de Goiás|              Novaes|   Atrasado|                          1|\n",
      "| 2025-10-05|  2025-10-14|    Lorenzo Nogueira|          Aéreo|     XUU-1U92|     Moraes Paulista|             Andrade|   Atrasado|                          9|\n",
      "+-----------+------------+--------------------+---------------+-------------+--------------------+--------------------+-----------+---------------------------+\n",
      "only showing top 20 rows\n"
     ]
    }
   ],
   "source": [
    "\n",
    "\n",
    "# ADICIONANDO UMA NOVA COLUNA\n",
    "df = df.withColumn(\"Duração da Viagem (Em dias)\", datediff(col(\"Data Término\"), col(\"Data Início\")))\n",
    "df.show()\n",
    "\n"
   ]
  },
  {
   "cell_type": "code",
   "execution_count": 11,
   "id": "a29dd77a",
   "metadata": {},
   "outputs": [
    {
     "name": "stdout",
     "output_type": "stream",
     "text": [
      "+--------------------+-------------+\n",
      "|           MOTORISTA|PLACA VEÍCULO|\n",
      "+--------------------+-------------+\n",
      "|   SRA. NINA DA MOTA|     KXP-6Y71|\n",
      "|         THALES DIAS|     DCR-0M42|\n",
      "|        ASAFE NOVAIS|     DIK-0J40|\n",
      "|      REBECA DA CRUZ|     PZZ-1Q40|\n",
      "|       BELLA CORREIA|     KAV-5T40|\n",
      "|    CECÍLIA MENDONÇA|     ABP-1V75|\n",
      "|  SRA. ÁGATHA DA PAZ|     VGK-2T79|\n",
      "|     ANA LAURA SOUZA|     VUL-8D11|\n",
      "|DRA. EMANUELLY DA...|     DQF-1U70|\n",
      "|           THEO LIMA|     WIN-2C75|\n",
      "|     SRTA. AYLA MELO|     FUD-0G13|\n",
      "|      ELOAH FERREIRA|     XXD-3S41|\n",
      "|   SABRINA APARECIDA|     WYM-4D69|\n",
      "|       MURILO NOVAIS|     RUE-8U63|\n",
      "|    CAROLINE REZENDE|     AAM-5Y63|\n",
      "|       GABRIEL SOUZA|     GWS-0D05|\n",
      "|SR. JOSÉ MIGUEL O...|     OHB-4I07|\n",
      "|     CECILIA BARBOSA|     QAB-5X66|\n",
      "|    MAYSA NASCIMENTO|     FTG-7A87|\n",
      "|    LORENZO NOGUEIRA|     XUU-1U92|\n",
      "+--------------------+-------------+\n",
      "only showing top 20 rows\n"
     ]
    }
   ],
   "source": [
    "\n",
    "# ALTERANDO TITULOS DE COLUNAS PRA MAIUSCULO\n",
    "\n",
    "df.select(upper(col(\"Motorista\")).alias(\"MOTORISTA\"), upper(col(\"Placa Veículo\")).alias(\"PLACA VEÍCULO\")).show()\n"
   ]
  },
  {
   "cell_type": "code",
   "execution_count": 25,
   "id": "c0ad41f3",
   "metadata": {},
   "outputs": [
    {
     "data": {
      "image/png": "[encoded data removed]",
      "text/plain": [
       "<Figure size 640x480 with 1 Axes>"
      ]
     },
     "metadata": {},
     "output_type": "display_data"
    }
   ],
   "source": [
    "status_counts = df.groupBy(\"Status\").count().orderBy(\"count\", ascending=False).collect()\n",
    "\n",
    "status_labels = [row['Status'] for row in status_counts]\n",
    "status_values = [row['count'] for row in status_counts]\n",
    "\n",
    "plt.plot(status_labels, status_values, marker='o')\n",
    "plt.xlabel('Status da Viagem')\n",
    "plt.ylabel('Número de Viagens')\n",
    "plt.title('Número de Viagens por Status')\n",
    "plt.show()"
   ]
  },
  {
   "cell_type": "code",
   "execution_count": null,
   "id": "087172bf",
   "metadata": {},
   "outputs": [],
   "source": []
  }
 ],
 "metadata": {
  "kernelspec": {
   "display_name": "Python 3",
   "language": "python",
   "name": "python3"
  },
  "language_info": {
   "codemirror_mode": {
    "name": "ipython",
    "version": 3
   },
   "file_extension": ".py",
   "mimetype": "text/x-python",
   "name": "python",
   "nbconvert_exporter": "python",
   "pygments_lexer": "ipython3",
   "version": "3.11.9"
  }
 },
 "nbformat": 4,
 "nbformat_minor": 5
}
